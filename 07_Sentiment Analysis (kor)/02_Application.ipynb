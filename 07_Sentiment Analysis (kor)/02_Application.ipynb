{
 "cells": [
  {
   "cell_type": "code",
   "execution_count": 3,
   "metadata": {},
   "outputs": [],
   "source": [
    "import pickle\n",
    "from konlpy.tag import *\n",
    "\n",
    "ok1 = Okt()\n",
    "\n",
    "def tokenizer(text):\n",
    "    return ok1.morphs(text)\n",
    "\n",
    "with open('pipe.dat', 'rb') as fp:\n",
    "    pipe = pickle.load(fp)\n"
   ]
  },
  {
   "cell_type": "code",
   "execution_count": 9,
   "metadata": {},
   "outputs": [
    {
     "name": "stdout",
     "output_type": "stream",
     "text": [
      "리뷰를 작성해주세요 :보지마세요\n",
      "[[0.92448738 0.07551262]]\n",
      "부정적인 리뷰\n"
     ]
    }
   ],
   "source": [
    "text = input('리뷰를 작성해주세요 :')\n",
    "\n",
    "str1 = [text]\n",
    "\n",
    "result1 = pipe.predict(str1)\n",
    "result2 = pipe.predict_proba(str1)\n",
    "print(result2)\n",
    "\n",
    "if result1[0] == '1':\n",
    "    print('긍정적인 리뷰')\n",
    "else:\n",
    "    print('부정적인 리뷰')"
   ]
  },
  {
   "cell_type": "code",
   "execution_count": null,
   "metadata": {},
   "outputs": [],
   "source": []
  }
 ],
 "metadata": {
  "kernelspec": {
   "display_name": "Python 3",
   "language": "python",
   "name": "python3"
  },
  "language_info": {
   "codemirror_mode": {
    "name": "ipython",
    "version": 3
   },
   "file_extension": ".py",
   "mimetype": "text/x-python",
   "name": "python",
   "nbconvert_exporter": "python",
   "pygments_lexer": "ipython3",
   "version": "3.7.6"
  }
 },
 "nbformat": 4,
 "nbformat_minor": 4
}
