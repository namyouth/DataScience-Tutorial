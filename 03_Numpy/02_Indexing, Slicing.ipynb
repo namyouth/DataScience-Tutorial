{
 "cells": [
  {
   "cell_type": "markdown",
   "metadata": {},
   "source": [
    "# 인덱싱, 슬라이싱\n",
    "인덱싱: 원하는 위치의 값을 가져온다.\n",
    "\n",
    "슬라이싱: 원하는 범위의 값을 가져온다."
   ]
  },
  {
   "cell_type": "code",
   "execution_count": 1,
   "metadata": {},
   "outputs": [],
   "source": [
    "import numpy as np"
   ]
  },
  {
   "cell_type": "markdown",
   "metadata": {},
   "source": [
    "### 인덱싱"
   ]
  },
  {
   "cell_type": "code",
   "execution_count": 3,
   "metadata": {},
   "outputs": [
    {
     "name": "stdout",
     "output_type": "stream",
     "text": [
      "list1[0] : 10\n",
      "list1[2] : 30\n",
      "list1[-1] : 50\n",
      "list1[-3] : 30\n"
     ]
    }
   ],
   "source": [
    "list1 = [10, 20, 30, 40, 50]\n",
    "print(f'list1[0] : {list1[0]}')\n",
    "print(f'list1[2] : {list1[2]}')\n",
    "\n",
    "\n",
    "print(f'list1[-1] : {list1[-1]}')\n",
    "print(f'list1[-3] : {list1[-3]}')"
   ]
  },
  {
   "cell_type": "code",
   "execution_count": 6,
   "metadata": {},
   "outputs": [
    {
     "name": "stdout",
     "output_type": "stream",
     "text": [
      "list2[0][0] : 10\n",
      "list2[1][2] : 60\n"
     ]
    }
   ],
   "source": [
    "list2 = [[10, 20, 30], [40, 50, 60]]\n",
    "print(f'list2[0][0] : {list2[0][0]}')\n",
    "print(f'list2[1][2] : {list2[1][2]}')"
   ]
  },
  {
   "cell_type": "code",
   "execution_count": 10,
   "metadata": {},
   "outputs": [
    {
     "name": "stdout",
     "output_type": "stream",
     "text": [
      "array1[0] : 10\n",
      "array1[2] : 30\n",
      "array1[-1] : 50\n",
      "array1[-3] : 30\n"
     ]
    }
   ],
   "source": [
    "array1 = np.array([10, 20, 30, 40, 50])\n",
    "print(f'array1[0] : {array1[0]}')\n",
    "print(f'array1[2] : {array1[2]}')\n",
    "\n",
    "\n",
    "print(f'array1[-1] : {array1[-1]}')\n",
    "print(f'array1[-3] : {array1[-3]}')"
   ]
  },
  {
   "cell_type": "code",
   "execution_count": 13,
   "metadata": {},
   "outputs": [
    {
     "name": "stdout",
     "output_type": "stream",
     "text": [
      "array2[0,0] : 10\n",
      "array2[1,2] : 60\n"
     ]
    }
   ],
   "source": [
    "array2 = np.array([[10,20,30],\n",
    "                   [40,50,60],\n",
    "                   ])\n",
    "print(f'array2[0,0] : {array2[0,0]}')\n",
    "print(f'array2[1,2] : {array2[1,2]}')"
   ]
  },
  {
   "cell_type": "markdown",
   "metadata": {},
   "source": [
    "### 슬라이싱"
   ]
  },
  {
   "cell_type": "code",
   "execution_count": 16,
   "metadata": {},
   "outputs": [
    {
     "name": "stdout",
     "output_type": "stream",
     "text": [
      "list2 : [30, 40]\n",
      "list3 : [10, 20, 30, 40]\n",
      "list4 : [30, 40, 50]\n"
     ]
    }
   ],
   "source": [
    "list1 = [10,20,30,40,50]\n",
    "# 인덱스 2 ~ 4 - 1\n",
    "list2 = list1[2:4]\n",
    "print(f'list2 : {list2}')\n",
    "\n",
    "# 처음부터 4 - 1 까지\n",
    "list3 = list1[:4]\n",
    "print(f'list3 : {list3}')\n",
    "\n",
    "# 2 ~ 끝까지 \n",
    "list4 = list1[2:]\n",
    "print(f'list4 : {list4}')\n"
   ]
  },
  {
   "cell_type": "code",
   "execution_count": 22,
   "metadata": {},
   "outputs": [
    {
     "name": "stdout",
     "output_type": "stream",
     "text": [
      "[[10, 20, 30], [40, 50, 60]]\n"
     ]
    }
   ],
   "source": [
    "list5 = [\n",
    "    [10, 20, 30],\n",
    "    [40, 50, 60],\n",
    "    [70, 80, 90]\n",
    "        ]\n",
    "print(list5[0:2])"
   ]
  },
  {
   "cell_type": "code",
   "execution_count": 24,
   "metadata": {},
   "outputs": [
    {
     "name": "stdout",
     "output_type": "stream",
     "text": [
      "array2 : [30, 40]\n",
      "array3 [10, 20, 30, 40]\n",
      "array4 : [30, 40, 50]\n"
     ]
    }
   ],
   "source": [
    "array1 = [10,20,30,40,50]\n",
    "# 인덱스 2 ~ 4 - 1\n",
    "array2 = array1[2:4]\n",
    "print(f'array2 : {array2}')\n",
    "\n",
    "# 처음부터 4 - 1 까지\n",
    "array3 = array1[:4]\n",
    "print(f'array3 {array3}')\n",
    "\n",
    "# 2 ~ 끝까지 \n",
    "array4 = array1[2:]\n",
    "print(f'array4 : {array4}')"
   ]
  },
  {
   "cell_type": "code",
   "execution_count": 25,
   "metadata": {},
   "outputs": [
    {
     "name": "stdout",
     "output_type": "stream",
     "text": [
      "[[10 20]\n",
      " [40 50]]\n"
     ]
    }
   ],
   "source": [
    "array5 = np.array([\n",
    "    [10,20,30],\n",
    "    [40,50,60],\n",
    "    [70,80,90]\n",
    "])\n",
    "print(array5[0:2, 0:2])"
   ]
  },
  {
   "cell_type": "code",
   "execution_count": 26,
   "metadata": {},
   "outputs": [],
   "source": [
    "#list는 인덱스 번호 관리\n",
    "# numpy 는 행렬 관리"
   ]
  }
 ],
 "metadata": {
  "kernelspec": {
   "display_name": "Python 3",
   "language": "python",
   "name": "python3"
  },
  "language_info": {
   "codemirror_mode": {
    "name": "ipython",
    "version": 3
   },
   "file_extension": ".py",
   "mimetype": "text/x-python",
   "name": "python",
   "nbconvert_exporter": "python",
   "pygments_lexer": "ipython3",
   "version": "3.7.4"
  }
 },
 "nbformat": 4,
 "nbformat_minor": 2
}
