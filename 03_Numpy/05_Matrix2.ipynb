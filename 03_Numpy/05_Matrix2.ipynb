{
 "cells": [
  {
   "cell_type": "code",
   "execution_count": 29,
   "metadata": {},
   "outputs": [],
   "source": [
    "import numpy as np"
   ]
  },
  {
   "cell_type": "markdown",
   "metadata": {},
   "source": [
    "### 리스트와 비교 (더하기, 곱하기)"
   ]
  },
  {
   "cell_type": "code",
   "execution_count": 2,
   "metadata": {},
   "outputs": [
    {
     "name": "stdout",
     "output_type": "stream",
     "text": [
      "[1, 2, 3, 4, 5, 6]\n",
      "[1, 2, 3, 1, 2, 3, 1, 2, 3]\n"
     ]
    }
   ],
   "source": [
    "list1 = [1,2,3]\n",
    "list2 = [4,5,6]\n",
    "\n",
    "\n",
    "list3 = list1 + list2\n",
    "list4 = list1 * 3\n",
    "\n",
    "print(list3)\n",
    "print(list4)"
   ]
  },
  {
   "cell_type": "code",
   "execution_count": 4,
   "metadata": {},
   "outputs": [
    {
     "name": "stdout",
     "output_type": "stream",
     "text": [
      "[1 2 3 4 5 6]\n",
      "[1 1 1 2 2 2 3 3 3]\n"
     ]
    }
   ],
   "source": [
    "array1 = np.array([1,2,3])\n",
    "array2 = np.array([4,5,6])\n",
    "\n",
    "array3 = np.append(array1, array2)\n",
    "array4 = np.repeat(array1, 3)\n",
    "\n",
    "print(array3)\n",
    "print(array4)"
   ]
  },
  {
   "cell_type": "markdown",
   "metadata": {},
   "source": [
    "### 행렬 연산"
   ]
  },
  {
   "cell_type": "code",
   "execution_count": 9,
   "metadata": {},
   "outputs": [
    {
     "name": "stdout",
     "output_type": "stream",
     "text": [
      "[5 7 9]\n",
      "[-3 -3 -3]\n",
      "[ 4 10 18]\n",
      "[0.25 0.4  0.5 ]\n",
      "[0 0 0]\n",
      "[  1  32 729]\n",
      "[1 2 3]\n"
     ]
    }
   ],
   "source": [
    "array1 = np.array([1,2,3])\n",
    "array2 = np.array([4,5,6])\n",
    "\n",
    "print(array1 + array2)\n",
    "print(array1 - array2)\n",
    "print(array1 * array2)\n",
    "print(array1 / array2)\n",
    "print(array1 // array2)\n",
    "print(array1 ** array2)\n",
    "print(array1 % array2)"
   ]
  },
  {
   "cell_type": "code",
   "execution_count": 10,
   "metadata": {},
   "outputs": [
    {
     "name": "stdout",
     "output_type": "stream",
     "text": [
      "[4 5 6]\n",
      "[-2 -1  0]\n",
      "[3 6 9]\n",
      "[0.33333333 0.66666667 1.        ]\n",
      "[0 0 1]\n",
      "[ 1  8 27]\n",
      "[1 2 0]\n"
     ]
    }
   ],
   "source": [
    "array1 = np.array([1,2,3])\n",
    "array2 = np.array([4,5,6])\n",
    "\n",
    "print(array1 + 3)\n",
    "print(array1 - 3)\n",
    "print(array1 * 3)\n",
    "print(array1 / 3)\n",
    "print(array1 // 3)\n",
    "print(array1 ** 3)\n",
    "print(array1 % 3)"
   ]
  },
  {
   "cell_type": "markdown",
   "metadata": {},
   "source": [
    "### 행렬 내의 값에 대한 집계"
   ]
  },
  {
   "cell_type": "code",
   "execution_count": 16,
   "metadata": {},
   "outputs": [
    {
     "name": "stdout",
     "output_type": "stream",
     "text": [
      "array1 : [1 2 3 4 5 6 7 8 9]\n",
      "array1의 총합 : 45\n",
      "array1의 평균 : 5.0\n"
     ]
    }
   ],
   "source": [
    "array1 = np.arange(1, 10)\n",
    "\n",
    "print(f'array1 : {array1}')\n",
    "print(f'array1의 총합 : {array1.sum()}')\n",
    "print(f'array1의 평균 : {array1.mean()}')\n",
    "print(f'array1의 표준편차 : {array1.std()}')\n",
    "print(f'array1의 누적과정 : {array1.cumsum()}')"
   ]
  },
  {
   "cell_type": "code",
   "execution_count": 18,
   "metadata": {},
   "outputs": [
    {
     "name": "stdout",
     "output_type": "stream",
     "text": [
      "45\n",
      "[12 15 18]\n",
      "[ 6 15 24]\n",
      "5.0\n",
      "[4. 5. 6.]\n",
      "[2. 5. 8.]\n"
     ]
    }
   ],
   "source": [
    "array2 = np.array([\n",
    "    [1,2,3],\n",
    "    [4,5,6],\n",
    "    [7,8,9],\n",
    "])ㅁ\n",
    "print(array2.sum())\n",
    "print(array2.sum(axis=0))\n",
    "print(array2.sum(axis=1))\n",
    "\n",
    "print(array2.mean())\n",
    "print(array2.mean(axis=0))\n",
    "print(array2.mean(axis=1))"
   ]
  },
  {
   "cell_type": "code",
   "execution_count": 19,
   "metadata": {},
   "outputs": [
    {
     "data": {
      "text/plain": [
       "array([8, 4, 3, 1, 1, 0, 6, 2, 5, 1])"
      ]
     },
     "execution_count": 19,
     "metadata": {},
     "output_type": "execute_result"
    }
   ],
   "source": [
    "# 랜덤 행렬\n",
    "array1 = np.random.randint(10, size=10)\n",
    "array1"
   ]
  },
  {
   "cell_type": "code",
   "execution_count": 21,
   "metadata": {},
   "outputs": [],
   "source": [
    "array2 = np.random.randint(1, 46, size=1000)"
   ]
  },
  {
   "cell_type": "code",
   "execution_count": 22,
   "metadata": {},
   "outputs": [
    {
     "name": "stdout",
     "output_type": "stream",
     "text": [
      "최대 : 45\n",
      "최소 : 1\n"
     ]
    }
   ],
   "source": [
    "print(f'최대 : {array2.max()}')\n",
    "print(f'최소 : {array2.min()}')"
   ]
  },
  {
   "cell_type": "code",
   "execution_count": 28,
   "metadata": {},
   "outputs": [
    {
     "name": "stdout",
     "output_type": "stream",
     "text": [
      "389\n",
      "2892\n",
      "7.434447300771208\n",
      "389\n",
      "2892\n",
      "7.434447300771208\n"
     ]
    }
   ],
   "source": [
    "array1 = np.random.randint(10, size=1000)\n",
    "# 5보다 큰 숫자들의 개수 총합을 구한다.\n",
    "array2= array1 > 5\n",
    "array3= array1[array2]\n",
    "print(array3.size)\n",
    "print(array3.sum())\n",
    "print(array3.mean())\n",
    "\n",
    "\n",
    "print(array1[array1 > 5].size)\n",
    "print(array1[array1 > 5].sum())\n",
    "print(array1[array1 > 5].mean())"
   ]
  },
  {
   "cell_type": "markdown",
   "metadata": {},
   "source": [
    "### 중복제거"
   ]
  },
  {
   "cell_type": "code",
   "execution_count": 26,
   "metadata": {},
   "outputs": [
    {
     "data": {
      "text/plain": [
       "array([1, 2, 3, 4])"
      ]
     },
     "execution_count": 26,
     "metadata": {},
     "output_type": "execute_result"
    }
   ],
   "source": [
    "array1 = [1,1,2,2,3,3,4,4]\n",
    "array2 = np.unique(array1)\n",
    "array2"
   ]
  },
  {
   "cell_type": "code",
   "execution_count": null,
   "metadata": {},
   "outputs": [],
   "source": []
  }
 ],
 "metadata": {
  "kernelspec": {
   "display_name": "Python 3",
   "language": "python",
   "name": "python3"
  },
  "language_info": {
   "codemirror_mode": {
    "name": "ipython",
    "version": 3
   },
   "file_extension": ".py",
   "mimetype": "text/x-python",
   "name": "python",
   "nbconvert_exporter": "python",
   "pygments_lexer": "ipython3",
   "version": "3.7.4"
  }
 },
 "nbformat": 4,
 "nbformat_minor": 2
}
