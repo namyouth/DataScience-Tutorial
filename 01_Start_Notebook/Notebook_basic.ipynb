{
 "cells": [
  {
   "cell_type": "code",
   "execution_count": 1,
   "metadata": {},
   "outputs": [
    {
     "name": "stdout",
     "output_type": "stream",
     "text": [
      "Hello world\n"
     ]
    }
   ],
   "source": [
    "print('Hello world')"
   ]
  },
  {
   "cell_type": "code",
   "execution_count": 2,
   "metadata": {},
   "outputs": [
    {
     "name": "stdout",
     "output_type": "stream",
     "text": [
      "a1 = 30\n"
     ]
    }
   ],
   "source": [
    "a1 = 10 + 20\n",
    "print(f'a1 = {a1}')\n"
   ]
  },
  {
   "cell_type": "markdown",
   "metadata": {},
   "source": [
    "# 문자열1\n",
    "## 문자열2\n",
    "### 문자열3\n",
    "#### 문자열4\n",
    "##### 문자열5\n"
   ]
  },
  {
   "cell_type": "markdown",
   "metadata": {},
   "source": [
    "### 기본 모드\n",
    "edit mode : 셀에서 엔터를 누르면 입력할 수 있는 모드 \n",
    "\n",
    "command mode : 셀에서 esc키 누르면 셀들을 관리할 수 있는 모드"
   ]
  },
  {
   "cell_type": "markdown",
   "metadata": {},
   "source": [
    "### edit mode 단축키\n",
    "esc : command mode로 전환된다.\n",
    "\n",
    "shift + enter : 현재 셀이 실행된다.\n",
    "\n",
    "방향키 위, 아래 : 위나 아래셀로 이동된다.\n",
    "\n",
    "ctrl + shift + - : 현재 위치를 기준으로 셀이 분리 된다."
   ]
  },
  {
   "cell_type": "markdown",
   "metadata": {},
   "source": [
    "### command mode 단축키\n",
    "\n",
    "enter : edit 모드로 전환\n",
    "\n",
    "a : 현재 셀을 기준으로 상단에 셀이 추가되고 추가된 셀로 이동\n",
    "\n",
    "b : 현재 셀을 기준으로 하단에 셀이 추가되고 추가된 셀로 이동\n",
    "\n",
    "dd: 현재 셀이 삭제된다.\n",
    "\n",
    "방향키 위, 아래 : 위나 아래로 이동된다.\n",
    "\n",
    "shift + enter : 현재 셀일 실행된다.\n",
    "\n",
    "y : 파이썬 코드를 작성하는 셀로 변경된다.\n",
    "\n",
    "m : 마크다운을 작성하는 셀로 변경된다."
   ]
  },
  {
   "cell_type": "markdown",
   "metadata": {},
   "source": [
    "### html 사용하기\n",
    "마크다운은 html 코드를 지원한다.\n",
    "<h3> 동해물과 <span style = 'color:red'> 백두산 </span>이 마르고 닳도록</h3>\n",
    "<img src=\"image\\bbb.jpg\"> \n"
   ]
  },
  {
   "cell_type": "markdown",
   "metadata": {},
   "source": [
    "$$ x = \\sqrt(b^2-4ac) $$"
   ]
  },
  {
   "cell_type": "markdown",
   "metadata": {},
   "source": [
    "<img src=\"image\\ccc.jpg\"> "
   ]
  },
  {
   "cell_type": "code",
   "execution_count": null,
   "metadata": {},
   "outputs": [],
   "source": []
  },
  {
   "cell_type": "code",
   "execution_count": null,
   "metadata": {},
   "outputs": [],
   "source": []
  },
  {
   "cell_type": "code",
   "execution_count": null,
   "metadata": {},
   "outputs": [],
   "source": []
  },
  {
   "cell_type": "code",
   "execution_count": null,
   "metadata": {},
   "outputs": [],
   "source": []
  },
  {
   "cell_type": "code",
   "execution_count": null,
   "metadata": {},
   "outputs": [],
   "source": []
  }
 ],
 "metadata": {
  "kernelspec": {
   "display_name": "Python 3",
   "language": "python",
   "name": "python3"
  },
  "language_info": {
   "codemirror_mode": {
    "name": "ipython",
    "version": 3
   },
   "file_extension": ".py",
   "mimetype": "text/x-python",
   "name": "python",
   "nbconvert_exporter": "python",
   "pygments_lexer": "ipython3",
   "version": "3.7.4"
  }
 },
 "nbformat": 4,
 "nbformat_minor": 2
}
