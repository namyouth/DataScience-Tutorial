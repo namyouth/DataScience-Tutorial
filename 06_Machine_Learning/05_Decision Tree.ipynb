{
 "cells": [
  {
   "cell_type": "markdown",
   "metadata": {},
   "source": [
    "# Decision Tree\n",
    "결정에 다다르기 위해 예/아니오 식의 질문을 이어가면서 학습한다.\n",
    " \n",
    "다른 모델에 비해 성능이 매우 우수할 확률이 높지만 과적합이 발생할 확률이 높다."
   ]
  },
  {
   "cell_type": "code",
   "execution_count": 3,
   "metadata": {},
   "outputs": [],
   "source": [
    "import pandas as pd\n",
    "from sklearn.model_selection import train_test_split"
   ]
  },
  {
   "cell_type": "code",
   "execution_count": 22,
   "metadata": {},
   "outputs": [
    {
     "name": "stdout",
     "output_type": "stream",
     "text": [
      "예측 정확도 : 0.9440559440559441\n"
     ]
    }
   ],
   "source": [
    "from sklearn.tree import DecisionTreeClassifier\n",
    "# 데이터 읽어오기\n",
    "df1 = pd.read_csv('breast_cancer.csv')\n",
    "\n",
    "# target을 숫자로 변경한다.(문자를 읽지 못하기 때문에)\n",
    "map1= {\n",
    "    'benign' : 0,\n",
    "    'malignant' : 1\n",
    "}\n",
    "df1['target'] = df1['target'].map(map1)\n",
    "\n",
    "# 입력데이터와 결과데이터로 분리한다.\n",
    "x = df1.drop(['target'], axis=1)\n",
    "y = df1['target']\n",
    "\n",
    "# 학습데이터와 검증데이터를 8:2 비율로 나눈다.\n",
    "x_train, x_test, y_train, y_test = train_test_split(x,y)\n",
    "\n",
    "# 학습\n",
    "model = DecisionTreeClassifier(max_depth=4)\n",
    "model.fit(x_train, y_train)\n",
    "\n",
    "# 검증\n",
    "r1 = model.score(x_test, y_test)\n",
    "print(f'예측 정확도 : {r1}')"
   ]
  },
  {
   "cell_type": "markdown",
   "metadata": {},
   "source": [
    "### Random Forest\n",
    " 결정트리의 최대 단점인 과적합 현상이 발생할 수 있다는 것을 극복하기 위해 만든 모델. 다수의 결정트리를 만들어서 각각 예측 결과를 추출하고 추출된 예측 결과들을 모아 다시 결정하는 방식"
   ]
  },
  {
   "cell_type": "code",
   "execution_count": 25,
   "metadata": {},
   "outputs": [
    {
     "name": "stdout",
     "output_type": "stream",
     "text": [
      "예측 정확도 : 0.916083916083916\n"
     ]
    }
   ],
   "source": [
    "from sklearn.ensemble import RandomForestClassifier\n",
    "# 데이터 읽어오기\n",
    "df1 = pd.read_csv('breast_cancer.csv')\n",
    "\n",
    "# target을 숫자로 변경한다.(문자를 읽지 못하기 때문에)\n",
    "map1= {\n",
    "    'benign' : 0,\n",
    "    'malignant' : 1\n",
    "}\n",
    "df1['target'] = df1['target'].map(map1)\n",
    "\n",
    "# 입력데이터와 결과데이터로 분리한다.\n",
    "x = df1.drop(['target'], axis=1)\n",
    "y = df1['target']\n",
    "\n",
    "# 학습데이터와 검증데이터를 8:2 비율로 나눈다.\n",
    "x_train, x_test, y_train, y_test = train_test_split(x,y)\n",
    "\n",
    "# 학습\n",
    "model = RandomForestClassifier(n_estimators=5)\n",
    "model.fit(x_train, y_train)\n",
    "\n",
    "# 검증\n",
    "r1 = model.score(x_test, y_test)\n",
    "print(f'예측 정확도 : {r1}')"
   ]
  },
  {
   "cell_type": "code",
   "execution_count": null,
   "metadata": {},
   "outputs": [],
   "source": []
  }
 ],
 "metadata": {
  "kernelspec": {
   "display_name": "Python 3",
   "language": "python",
   "name": "python3"
  },
  "language_info": {
   "codemirror_mode": {
    "name": "ipython",
    "version": 3
   },
   "file_extension": ".py",
   "mimetype": "text/x-python",
   "name": "python",
   "nbconvert_exporter": "python",
   "pygments_lexer": "ipython3",
   "version": "3.7.4"
  }
 },
 "nbformat": 4,
 "nbformat_minor": 2
}
