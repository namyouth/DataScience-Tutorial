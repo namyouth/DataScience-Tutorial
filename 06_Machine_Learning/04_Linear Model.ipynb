{
 "cells": [
  {
   "cell_type": "markdown",
   "metadata": {},
   "source": [
    "# 선형 모델\n",
    "입력 특성에 대한 선형함수를 만들어 예측을 수행하는 모델\n",
    "\n",
    "가장 통계적 모델로 평가받고 있는 모델이다.\n",
    "\n",
    "<img src='3.png'/>"
   ]
  },
  {
   "cell_type": "markdown",
   "metadata": {},
   "source": [
    "### Linear Regression\n",
    "예측과 훈련 세트에 있는 타깃 y사이의 평균 제곱 오차를 최소화하는 모델"
   ]
  },
  {
   "cell_type": "code",
   "execution_count": 11,
   "metadata": {},
   "outputs": [],
   "source": [
    "import pandas as pd\n",
    "from sklearn.model_selection import train_test_split"
   ]
  },
  {
   "cell_type": "code",
   "execution_count": 15,
   "metadata": {},
   "outputs": [
    {
     "name": "stdout",
     "output_type": "stream",
     "text": [
      "예측정확도: 0.6983231682472318\n"
     ]
    }
   ],
   "source": [
    "from sklearn.linear_model import LinearRegression\n",
    "\n",
    "df1 = pd.read_csv('wave.csv')\n",
    "# df1.head()\n",
    "\n",
    "x = df1['data'].values.reshape(-1, 1)\n",
    "y = df1['target'].values\n",
    "\n",
    "x_train, x_test, y_train, y_test = train_test_split(x, y)\n",
    "\n",
    "model = LinearRegression()\n",
    "model.fit(x_train, y_train)\n",
    "\n",
    "r1 = model.score(x_test, y_test)\n",
    "print(f'예측정확도: {r1}')"
   ]
  },
  {
   "cell_type": "markdown",
   "metadata": {},
   "source": [
    "### Logistic Regression"
   ]
  },
  {
   "cell_type": "code",
   "execution_count": 17,
   "metadata": {},
   "outputs": [
    {
     "name": "stdout",
     "output_type": "stream",
     "text": [
      "예측 정확도 : 0.8571428571428571\n"
     ]
    },
    {
     "name": "stderr",
     "output_type": "stream",
     "text": [
      "C:\\Anaconda\\lib\\site-packages\\sklearn\\linear_model\\logistic.py:432: FutureWarning: Default solver will be changed to 'lbfgs' in 0.22. Specify a solver to silence this warning.\n",
      "  FutureWarning)\n"
     ]
    }
   ],
   "source": [
    "from sklearn.linear_model import LogisticRegression\n",
    "# 데이터 읽어오기\n",
    "df1 = pd.read_csv('forge.csv')\n",
    "\n",
    "# 입력데이터와 결과데이터로 분리한다.\n",
    "x = df1[['attr1','attr2']]\n",
    "y = df1['target']\n",
    "\n",
    "# 학습데이터와 검증데이터를 8:2 비율로 나눈다.\n",
    "x_train, x_test, y_train, y_test = train_test_split(x, y)\n",
    "\n",
    "# 학습\n",
    "model = LogisticRegression(C=0.01)\n",
    "model.fit(x_train, y_train)\n",
    "\n",
    "# 검증\n",
    "r1 = model.score(x_test, y_test)\n",
    "print(f'예측 정확도 : {r1}')"
   ]
  },
  {
   "cell_type": "code",
   "execution_count": null,
   "metadata": {},
   "outputs": [],
   "source": []
  }
 ],
 "metadata": {
  "kernelspec": {
   "display_name": "Python 3",
   "language": "python",
   "name": "python3"
  },
  "language_info": {
   "codemirror_mode": {
    "name": "ipython",
    "version": 3
   },
   "file_extension": ".py",
   "mimetype": "text/x-python",
   "name": "python",
   "nbconvert_exporter": "python",
   "pygments_lexer": "ipython3",
   "version": "3.7.4"
  }
 },
 "nbformat": 4,
 "nbformat_minor": 2
}
