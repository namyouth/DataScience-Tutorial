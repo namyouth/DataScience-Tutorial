{
 "cells": [
  {
   "cell_type": "code",
   "execution_count": 4,
   "metadata": {},
   "outputs": [],
   "source": [
    "import pickle\n",
    "from nltk.stem.porter import PorterStemmer\n",
    "from nltk.corpus import stopwords\n",
    "import nltk"
   ]
  },
  {
   "cell_type": "code",
   "execution_count": 5,
   "metadata": {},
   "outputs": [],
   "source": [
    "# 단어 형태소 분석을 위한 객체 생성\n",
    "porter = PorterStemmer()"
   ]
  },
  {
   "cell_type": "code",
   "execution_count": 6,
   "metadata": {},
   "outputs": [],
   "source": [
    "# 형태소를 분석하는 함수\n",
    "def tokenizer_porter(text) :\n",
    "    # 띄어쓰기를 기준으로 분리한다.\n",
    "    word_list = text.split()\n",
    "    # 형태소 분석 처리\n",
    "    word_list2 = [porter.stem(word) for word in word_list]\n",
    "    return word_list2"
   ]
  },
  {
   "cell_type": "code",
   "execution_count": 7,
   "metadata": {},
   "outputs": [],
   "source": [
    "# 객체를 복원한다.\n",
    "with open('pipe.dat', 'rb') as fp :\n",
    "    pipe = pickle.load(fp)"
   ]
  },
  {
   "cell_type": "code",
   "execution_count": 18,
   "metadata": {},
   "outputs": [
    {
     "name": "stdout",
     "output_type": "stream",
     "text": [
      "영문으로 리뷰를 입력해주세요 : gooooooooood\n",
      "부정적입니다 : 0.5180472535406655\n"
     ]
    }
   ],
   "source": [
    "text = input('영문으로 리뷰를 입력해주세요 : ')\n",
    "# 예측 결과 추출\n",
    "y = pipe.predict([text])\n",
    "# 정확도 추출\n",
    "rate = pipe.predict_proba([text])\n",
    "\n",
    "if y[0] == 1 :\n",
    "    print(f'긍정적입니다 : {rate[0][1]}')\n",
    "else :\n",
    "    print(f'부정적입니다 : {rate[0][0]}')"
   ]
  },
  {
   "cell_type": "code",
   "execution_count": null,
   "metadata": {},
   "outputs": [],
   "source": []
  },
  {
   "cell_type": "code",
   "execution_count": null,
   "metadata": {},
   "outputs": [],
   "source": []
  },
  {
   "cell_type": "code",
   "execution_count": null,
   "metadata": {},
   "outputs": [],
   "source": []
  },
  {
   "cell_type": "code",
   "execution_count": null,
   "metadata": {},
   "outputs": [],
   "source": []
  }
 ],
 "metadata": {
  "kernelspec": {
   "display_name": "Python 3",
   "language": "python",
   "name": "python3"
  },
  "language_info": {
   "codemirror_mode": {
    "name": "ipython",
    "version": 3
   },
   "file_extension": ".py",
   "mimetype": "text/x-python",
   "name": "python",
   "nbconvert_exporter": "python",
   "pygments_lexer": "ipython3",
   "version": "3.7.6"
  }
 },
 "nbformat": 4,
 "nbformat_minor": 2
}
