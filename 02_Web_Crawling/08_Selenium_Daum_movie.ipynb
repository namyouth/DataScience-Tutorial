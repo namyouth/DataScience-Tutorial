{
 "cells": [
  {
   "cell_type": "code",
   "execution_count": 6,
   "metadata": {},
   "outputs": [],
   "source": [
    "from selenium import webdriver"
   ]
  },
  {
   "cell_type": "code",
   "execution_count": 7,
   "metadata": {},
   "outputs": [],
   "source": [
    "# 웹드라이버 로딩\n",
    "driver = webdriver.Chrome()"
   ]
  },
  {
   "cell_type": "code",
   "execution_count": 8,
   "metadata": {},
   "outputs": [],
   "source": [
    "# 요청\n",
    "driver.get('https://movie.daum.net/premovie/released')"
   ]
  },
  {
   "cell_type": "code",
   "execution_count": 9,
   "metadata": {},
   "outputs": [
    {
     "data": {
      "text/plain": [
       "[<selenium.webdriver.remote.webelement.WebElement (session=\"36298c3096065b4a7e07b913a3e1a02d\", element=\"206c5eab-30cf-4873-a9ef-503695dfa1d9\")>,\n",
       " <selenium.webdriver.remote.webelement.WebElement (session=\"36298c3096065b4a7e07b913a3e1a02d\", element=\"d6f04f95-236c-4fa7-bf51-cf2dc8f66173\")>,\n",
       " <selenium.webdriver.remote.webelement.WebElement (session=\"36298c3096065b4a7e07b913a3e1a02d\", element=\"5a0ddc74-ed9e-4065-9eed-763ae6b5db41\")>,\n",
       " <selenium.webdriver.remote.webelement.WebElement (session=\"36298c3096065b4a7e07b913a3e1a02d\", element=\"b04216ee-ba0b-4124-8e32-471c4b787668\")>,\n",
       " <selenium.webdriver.remote.webelement.WebElement (session=\"36298c3096065b4a7e07b913a3e1a02d\", element=\"f5d1d3f0-67e3-4a57-a9af-7b894179ed3a\")>,\n",
       " <selenium.webdriver.remote.webelement.WebElement (session=\"36298c3096065b4a7e07b913a3e1a02d\", element=\"cf40fd75-061d-4913-8b14-54a3e7c3c04b\")>,\n",
       " <selenium.webdriver.remote.webelement.WebElement (session=\"36298c3096065b4a7e07b913a3e1a02d\", element=\"2d9b7cf1-bf60-4921-b757-2e0cbcdc5b31\")>,\n",
       " <selenium.webdriver.remote.webelement.WebElement (session=\"36298c3096065b4a7e07b913a3e1a02d\", element=\"e23cde68-eff8-49d0-ab4a-0da8af4d84a6\")>,\n",
       " <selenium.webdriver.remote.webelement.WebElement (session=\"36298c3096065b4a7e07b913a3e1a02d\", element=\"673ea879-d70a-4a8a-a657-c3af2a819c03\")>,\n",
       " <selenium.webdriver.remote.webelement.WebElement (session=\"36298c3096065b4a7e07b913a3e1a02d\", element=\"b145e055-b68a-4af4-8fc1-068af6674bfc\")>,\n",
       " <selenium.webdriver.remote.webelement.WebElement (session=\"36298c3096065b4a7e07b913a3e1a02d\", element=\"496c85cc-8ce3-4753-b733-a0458193d954\")>,\n",
       " <selenium.webdriver.remote.webelement.WebElement (session=\"36298c3096065b4a7e07b913a3e1a02d\", element=\"70a8297c-2887-4608-a412-964d1721dbbf\")>,\n",
       " <selenium.webdriver.remote.webelement.WebElement (session=\"36298c3096065b4a7e07b913a3e1a02d\", element=\"3da8963b-aa7a-469d-83c8-c06176d4ae58\")>,\n",
       " <selenium.webdriver.remote.webelement.WebElement (session=\"36298c3096065b4a7e07b913a3e1a02d\", element=\"f652930b-3f2c-4594-8586-e547b7b06092\")>,\n",
       " <selenium.webdriver.remote.webelement.WebElement (session=\"36298c3096065b4a7e07b913a3e1a02d\", element=\"2c18ec80-eefa-4222-9294-4d53539852db\")>,\n",
       " <selenium.webdriver.remote.webelement.WebElement (session=\"36298c3096065b4a7e07b913a3e1a02d\", element=\"7e86d26c-cf60-4409-8d26-a1ee4b07f37b\")>,\n",
       " <selenium.webdriver.remote.webelement.WebElement (session=\"36298c3096065b4a7e07b913a3e1a02d\", element=\"c2a6181b-c781-4e28-ace7-c42ed1f11e24\")>,\n",
       " <selenium.webdriver.remote.webelement.WebElement (session=\"36298c3096065b4a7e07b913a3e1a02d\", element=\"958b06ab-efe6-4808-ba21-93f3f4e7aa14\")>,\n",
       " <selenium.webdriver.remote.webelement.WebElement (session=\"36298c3096065b4a7e07b913a3e1a02d\", element=\"ebc764c4-744d-4282-a026-3d529214f2b5\")>,\n",
       " <selenium.webdriver.remote.webelement.WebElement (session=\"36298c3096065b4a7e07b913a3e1a02d\", element=\"35892e0b-67c8-474a-b520-f3a84b794495\")>]"
      ]
     },
     "execution_count": 9,
     "metadata": {},
     "output_type": "execute_result"
    }
   ],
   "source": [
    "# 영화 목록들을 가져온다.\n",
    "li_list = driver.find_elements_by_css_selector(\"#mArticle > ul.list_movie.\\#movie > li\")\n",
    "li_list"
   ]
  },
  {
   "cell_type": "code",
   "execution_count": 10,
   "metadata": {},
   "outputs": [
    {
     "name": "stdout",
     "output_type": "stream",
     "text": [
      "남산의 부장들\n",
      "08\n",
      "20.01.22 개봉 ・ 예매율 55.43%\n",
      "--------------------------------------------------\n",
      "히트맨\n",
      "07\n",
      "20.01.22 개봉 ・ 예매율 22.92%\n",
      "--------------------------------------------------\n",
      "미스터 주: 사라진 VIP\n",
      "06\n",
      "20.01.22 개봉 ・ 예매율 6.12%\n",
      "--------------------------------------------------\n",
      "스파이 지니어스\n",
      "08\n",
      "20.01.22 개봉 ・ 예매율 5.77%\n",
      "--------------------------------------------------\n",
      "해치지않아\n",
      "06\n",
      "20.01.15 개봉 ・ 예매율 3.42%\n",
      "--------------------------------------------------\n",
      "닥터 두리틀\n",
      "06\n",
      "20.01.08 개봉 ・ 예매율 1.45%\n",
      "--------------------------------------------------\n",
      "나쁜 녀석들 : 포에버\n",
      "06\n",
      "20.01.15 개봉 ・ 예매율 0.92%\n",
      "--------------------------------------------------\n",
      "타오르는 여인의 초상\n",
      "08\n",
      "20.01.16 개봉 ・ 예매율 0.8%\n",
      "--------------------------------------------------\n",
      "오즈의 마법사: 요술구두와 말하는 책\n",
      "02\n",
      "20.01.22 개봉 ・ 예매율 0.42%\n",
      "--------------------------------------------------\n",
      "백두산\n",
      "06\n",
      "19.12.19 개봉 ・ 예매율 0.35%\n",
      "--------------------------------------------------\n",
      "겨울왕국 2\n",
      "07\n",
      "19.11.21 개봉 ・ 예매율 0.34%\n",
      "--------------------------------------------------\n",
      "스타워즈: 라이즈 오브 스카이워커\n",
      "06\n",
      "20.01.08 개봉 ・ 예매율 0.26%\n",
      "--------------------------------------------------\n",
      "하이큐!! 땅 VS 하늘\n",
      "07\n",
      "20.01.23 개봉 ・ 예매율 0.24%\n",
      "--------------------------------------------------\n",
      "천문: 하늘에 묻는다\n",
      "08\n",
      "19.12.26 개봉 ・ 예매율 0.22%\n",
      "--------------------------------------------------\n",
      "나이브스 아웃\n",
      "08\n",
      "19.12.04 개봉 ・ 예매율 0.14%\n",
      "--------------------------------------------------\n",
      "신비아파트 극장판 하늘도깨비 대 요르문간드\n",
      "07\n",
      "19.12.19 개봉 ・ 예매율 0.14%\n",
      "--------------------------------------------------\n",
      "사마에게\n",
      "09\n",
      "20.01.23 개봉 ・ 예매율 0.14%\n",
      "--------------------------------------------------\n",
      "포드 V 페라리\n",
      "08\n",
      "19.12.04 개봉 ・ 예매율 0.14%\n",
      "--------------------------------------------------\n",
      "파바로티\n",
      "08\n",
      "20.01.01 개봉 ・ 예매율 0.11%\n",
      "--------------------------------------------------\n",
      "피아니스트의 전설\n",
      "09\n",
      "20.01.01 개봉 ・ 예매율 0.09%\n",
      "--------------------------------------------------\n"
     ]
    }
   ],
   "source": [
    "# li 태그의 수 만큼 반복문을 돌린다.\n",
    "data_dic = {\n",
    "    'name' : [],\n",
    "    'point' : [],\n",
    "    'date' : []\n",
    "}\n",
    "\n",
    "for li_tag in li_list :\n",
    "    name_tag = li_tag.find_element_by_css_selector('div.wrap_movie > div > a')\n",
    "    point_tag = li_tag.find_element_by_css_selector('div.wrap_movie > span.info_grade > a > span.wrap_grade.grade_netizen > span.num_grade')\n",
    "    date_tag = li_tag.find_element_by_css_selector('div.wrap_movie > span.info_state')\n",
    "    \n",
    "    print(name_tag.text)\n",
    "    print(point_tag.text)\n",
    "    print(date_tag.text)\n",
    "    print('-'*50)\n"
   ]
  }
 ],
 "metadata": {
  "kernelspec": {
   "display_name": "Python 3",
   "language": "python",
   "name": "python3"
  },
  "language_info": {
   "codemirror_mode": {
    "name": "ipython",
    "version": 3
   },
   "file_extension": ".py",
   "mimetype": "text/x-python",
   "name": "python",
   "nbconvert_exporter": "python",
   "pygments_lexer": "ipython3",
   "version": "3.7.6"
  }
 },
 "nbformat": 4,
 "nbformat_minor": 2
}
