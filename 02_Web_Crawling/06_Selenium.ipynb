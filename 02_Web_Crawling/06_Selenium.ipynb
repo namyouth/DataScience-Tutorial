{
 "cells": [
  {
   "cell_type": "markdown",
   "metadata": {},
   "source": [
    "# Selenium\n",
    "\n",
    "request 모듈로 응답결과를 받아오지 못할 경우 사용.\n",
    "사이트에 로그인 해야하거나 무언가를 입력해야 하는 경우 사용.\n",
    "\n",
    "브라우저를 실행해 브라우저를 통제해서 다양한 작업을 할 수 있다.\n",
    "(하지 말아야 할 것들: 자동 회원가입, 자동 댓글달기 ... 잡혀가요 하지마요)\n",
    "\n",
    "필요작업\n",
    "- 수집에 활용할 브라우저를 설치한다. (크롬, 사파리, 파이어폭스, 엣지)\n",
    "- 브라우저의 웹 드라이버를 다운 받는다.\n",
    "https://pypi.org/project/selenium/"
   ]
  },
  {
   "cell_type": "code",
   "execution_count": 1,
   "metadata": {
    "scrolled": true
   },
   "outputs": [
    {
     "name": "stdout",
     "output_type": "stream",
     "text": [
      "Requirement already satisfied: selenium in c:\\anaconda\\lib\\site-packages (3.141.0)\n",
      "Requirement already satisfied: urllib3 in c:\\anaconda\\lib\\site-packages (from selenium) (1.24.2)\n",
      "Note: you may need to restart the kernel to use updated packages.\n"
     ]
    }
   ],
   "source": [
    "pip install selenium"
   ]
  },
  {
   "cell_type": "code",
   "execution_count": 2,
   "metadata": {},
   "outputs": [],
   "source": [
    "from selenium import webdriver"
   ]
  },
  {
   "cell_type": "code",
   "execution_count": 3,
   "metadata": {},
   "outputs": [],
   "source": [
    "# 웹 드라이버 가동\n",
    "driver = webdriver.Chrome(\"C:/Users/Summer/Desktop/BigData/DataScience/02_Web_Crawlling/chromedriver.exe\")\n",
    "\n",
    "# 사이트 요청\n",
    "driver.get('https://google.com')"
   ]
  },
  {
   "cell_type": "code",
   "execution_count": 4,
   "metadata": {},
   "outputs": [
    {
     "name": "stdout",
     "output_type": "stream",
     "text": [
      "검색어를 입력해주세요우한 코로나 바이러스\n"
     ]
    }
   ],
   "source": [
    "# 검색어 입력\n",
    "keyword = input('검색어를 입력해주세요: ')"
   ]
  },
  {
   "cell_type": "code",
   "execution_count": 5,
   "metadata": {},
   "outputs": [],
   "source": [
    "# 웹 드라이버 가동\n",
    "driver = webdriver.Chrome(\"C:/Users/Summer/Desktop/BigData/DataScience/02_Web_Crawlling/chromedriver.exe\")"
   ]
  },
  {
   "cell_type": "code",
   "execution_count": 6,
   "metadata": {},
   "outputs": [],
   "source": [
    "# 네이버 요청\n",
    "driver.get('https://naver.com')"
   ]
  },
  {
   "cell_type": "code",
   "execution_count": 7,
   "metadata": {},
   "outputs": [],
   "source": [
    "# 검색어 입력\n",
    "query = driver.find_element_by_id(\"query\")\n",
    "query.send_keys(keyword)"
   ]
  },
  {
   "cell_type": "code",
   "execution_count": 8,
   "metadata": {},
   "outputs": [],
   "source": [
    "# 검색 버튼을 누른다.\n",
    "btn1 = driver.find_element_by_id('search_btn')\n",
    "btn1.click()"
   ]
  }
 ],
 "metadata": {
  "kernelspec": {
   "display_name": "Python 3",
   "language": "python",
   "name": "python3"
  },
  "language_info": {
   "codemirror_mode": {
    "name": "ipython",
    "version": 3
   },
   "file_extension": ".py",
   "mimetype": "text/x-python",
   "name": "python",
   "nbconvert_exporter": "python",
   "pygments_lexer": "ipython3",
   "version": "3.7.4"
  }
 },
 "nbformat": 4,
 "nbformat_minor": 2
}
