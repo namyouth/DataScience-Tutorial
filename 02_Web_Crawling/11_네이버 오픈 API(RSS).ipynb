{
 "cells": [
  {
   "cell_type": "code",
   "execution_count": 1,
   "metadata": {},
   "outputs": [
    {
     "name": "stdout",
     "output_type": "stream",
     "text": [
      "Requirement already satisfied: feedparser in c:\\anaconda\\lib\\site-packages (5.2.1)\n",
      "Note: you may need to restart the kernel to use updated packages.\n"
     ]
    }
   ],
   "source": [
    "pip install feedparser"
   ]
  },
  {
   "cell_type": "code",
   "execution_count": 2,
   "metadata": {},
   "outputs": [],
   "source": [
    "import requests\n",
    "import feedparser\n",
    "import pandas\n",
    "import os\n",
    "import time"
   ]
  },
  {
   "cell_type": "code",
   "execution_count": 3,
   "metadata": {},
   "outputs": [],
   "source": [
    "# 요청할 페이지의 주소\n",
    "site = 'https://openapi.naver.com/v1/search/news.xml'\n",
    "# 헤더 정보\n",
    "client_Id = 'HCEMLBusbJrqI4Fv2tYf'\n",
    "client_Secret = 'j6W3i_fYiA'\n",
    "# 파라미터\n",
    "query = '역삼역맛집'\n",
    "start = 1\n",
    "display = 10"
   ]
  },
  {
   "cell_type": "code",
   "execution_count": 4,
   "metadata": {},
   "outputs": [],
   "source": [
    "header_dict = {\n",
    "    'X-Naver-Client-Id' : client_Id,\n",
    "    'X-Naver-Client-Secret' : client_Secret\n",
    "}\n",
    "\n",
    "param_dict = {\n",
    "    'query' : query,\n",
    "    'start' : 1,\n",
    "    'display' : 10\n",
    "}"
   ]
  },
  {
   "cell_type": "code",
   "execution_count": 10,
   "metadata": {},
   "outputs": [
    {
     "name": "stdout",
     "output_type": "stream",
     "text": [
      "total : 363, start : 1, display : 10\n",
      "total : 363, start : 11, display : 10\n",
      "total : 363, start : 21, display : 10\n",
      "total : 363, start : 31, display : 10\n",
      "total : 363, start : 41, display : 10\n",
      "total : 363, start : 51, display : 10\n",
      "total : 363, start : 61, display : 10\n",
      "total : 363, start : 71, display : 10\n",
      "total : 363, start : 81, display : 10\n",
      "total : 363, start : 91, display : 10\n",
      "total : 363, start : 101, display : 10\n",
      "total : 363, start : 111, display : 10\n",
      "total : 363, start : 121, display : 10\n",
      "total : 363, start : 131, display : 10\n",
      "total : 363, start : 141, display : 10\n",
      "total : 363, start : 151, display : 10\n",
      "total : 363, start : 161, display : 10\n",
      "total : 363, start : 171, display : 10\n",
      "total : 363, start : 181, display : 10\n",
      "total : 363, start : 191, display : 10\n",
      "total : 363, start : 201, display : 10\n",
      "total : 363, start : 211, display : 10\n",
      "total : 363, start : 221, display : 10\n",
      "total : 363, start : 231, display : 10\n",
      "total : 363, start : 241, display : 10\n",
      "total : 363, start : 251, display : 10\n",
      "total : 363, start : 261, display : 10\n",
      "total : 363, start : 271, display : 10\n",
      "total : 363, start : 281, display : 10\n",
      "total : 363, start : 291, display : 10\n",
      "total : 363, start : 301, display : 10\n",
      "total : 363, start : 311, display : 10\n",
      "total : 363, start : 321, display : 10\n",
      "total : 363, start : 331, display : 10\n",
      "total : 363, start : 341, display : 10\n",
      "total : 363, start : 351, display : 10\n",
      "total : 363, start : 361, display : 3\n",
      "수집완료\n"
     ]
    }
   ],
   "source": [
    "while True:\n",
    "    time.sleep(1)\n",
    "    \n",
    "    response = requests.get(site, headers=header_dict, params=param_dict)\n",
    "    feeds=feedparser.parse(response.text)\n",
    "    \n",
    "    # feed 라는 이름으로 item 외의 것들이 들어가 있고\n",
    "    # entries 라는 이름으로 tiem 태그들이 담겨 있는 리스트가 들어가 있다.\n",
    "    total = feeds['feed']['total']\n",
    "    start = feeds['feed']['start']\n",
    "    display = feeds['feed']['display']\n",
    "    \n",
    "    print(f'total : {total}, start : {start}, display : {display}')\n",
    "    \n",
    "    for item_tag in feeds['entries']:\n",
    "        df1 = pandas.DataFrame([\n",
    "                [\n",
    "                    item_tag['title'],\n",
    "                    item_tag['originallink'],\n",
    "                    item_tag['link'],\n",
    "                    item_tag['description'],\n",
    "                    item_tag['published']\n",
    "                ]\n",
    "            ])\n",
    "        \n",
    "        if os.path.exists('naver_api2.csv') == False :\n",
    "            df1.columns = ['title', 'originallink', 'link',\n",
    "                           'description', 'pubDate']\n",
    "            df1.to_csv('naver_api2.csv', index=False, encoding='utf-8-sig')\n",
    "        else :\n",
    "            df1.to_csv('naver_api2.csv', index=False, encoding='utf-8-sig', mode='a', header=False)\n",
    "\n",
    "    # 다음에 가져올 것이 있는지 검사\n",
    "    now_cnt = int(start) + int(display) - 1\n",
    "    if now_cnt < int(total) :\n",
    "        param_dict['start'] = int(start) + 10\n",
    "    else :\n",
    "        break\n",
    "\n",
    "        \n",
    "print('수집완료')"
   ]
  },
  {
   "cell_type": "code",
   "execution_count": null,
   "metadata": {},
   "outputs": [],
   "source": []
  }
 ],
 "metadata": {
  "kernelspec": {
   "display_name": "Python 3",
   "language": "python",
   "name": "python3"
  },
  "language_info": {
   "codemirror_mode": {
    "name": "ipython",
    "version": 3
   },
   "file_extension": ".py",
   "mimetype": "text/x-python",
   "name": "python",
   "nbconvert_exporter": "python",
   "pygments_lexer": "ipython3",
   "version": "3.7.4"
  }
 },
 "nbformat": 4,
 "nbformat_minor": 2
}
