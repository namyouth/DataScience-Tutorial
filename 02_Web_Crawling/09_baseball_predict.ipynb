{
 "cells": [
  {
   "cell_type": "code",
   "execution_count": 1,
   "metadata": {},
   "outputs": [],
   "source": [
    "from selenium import webdriver\n",
    "import time\n",
    "import pandas as pd"
   ]
  },
  {
   "cell_type": "code",
   "execution_count": 2,
   "metadata": {},
   "outputs": [],
   "source": [
    "# 데이터를 저장할 딕셔너리\n",
    "data_dict = {\n",
    "    \"date\" : [],\n",
    "    \"team1_name\" : [],\n",
    "    \"team2_name\" : [],\n",
    "    \"team1_point\" : [],\n",
    "    \"team2_point\" : []\n",
    "}\n",
    "\n",
    "# 웹 드라이버 로딩\n",
    "driver = webdriver.Chrome()"
   ]
  },
  {
   "cell_type": "code",
   "execution_count": 3,
   "metadata": {},
   "outputs": [],
   "source": [
    "# 페이지를 요청하기\n",
    "driver.get('https://sports.news.naver.com/kbaseball/schedule/index.nhn')"
   ]
  },
  {
   "cell_type": "markdown",
   "metadata": {},
   "source": [
    "### 날짜를 입력받아 해당 날짜의 데이터를 추출한다."
   ]
  },
  {
   "cell_type": "code",
   "execution_count": 4,
   "metadata": {},
   "outputs": [],
   "source": [
    "def getData(script_code) :\n",
    "    # 스크립트를 실행시켜 원하는 날짜가 나오도록 한다.\n",
    "    driver.execute_script(script_code)\n",
    "    time.sleep(1)\n",
    "    # 스케쥴 표 전체를 가져온다.\n",
    "    sch_score_tag = driver.find_element_by_css_selector('#sch_recent_scoreboard > div > div')\n",
    "    \n",
    "    # 해당 날짜에 경기가 있는지 확인한다.\n",
    "    temp_tag = sch_score_tag.find_elements_by_css_selector('.banner_mon')\n",
    "    # 스크립트 코드에서 날짜만 추출한다.\n",
    "    date_str = script_code.split(\"'\")[1]\n",
    "    \n",
    "    # 경기가 없다면...\n",
    "    if len(temp_tag) > 0 :\n",
    "        print(f'{date_str} : 경기없음')\n",
    "    else :\n",
    "        print(f'{date_str} : 경기있음')\n",
    "        li_list = driver.find_elements_by_css_selector('#todaySchedule > li.end')\n",
    "        for li_tag in li_list : \n",
    "            team1_name = li_tag.find_element_by_css_selector('div.vs_lft > p > strong')\n",
    "            team2_name = li_tag.find_element_by_css_selector('div.vs_rgt > p > strong')\n",
    "            team1_point = li_tag.find_element_by_css_selector('div.vs_lft > strong')\n",
    "            team2_point = li_tag.find_element_by_css_selector('div.vs_rgt > strong')\n",
    "\n",
    "            team1_name = team1_name.text.strip()\n",
    "            team2_name = team2_name.text.strip()\n",
    "            team1_point = team1_point.text.strip()\n",
    "            team2_point = team2_point.text.strip()\n",
    "            \n",
    "            # print(f't{team1_name} {team1_point} : {team2_name} {team2 point}')\n",
    "             \n",
    "            data_dict['date'].append(date_str)\n",
    "            data_dict['team1_name'].append(team1_name)\n",
    "            data_dict['team2_name'].append(team2_name)\n",
    "            data_dict['team1_point'].append(team1_point)\n",
    "            data_dict['team2_point'].append(team2_point)\n",
    "                 "
   ]
  },
  {
   "cell_type": "code",
   "execution_count": 5,
   "metadata": {},
   "outputs": [],
   "source": [
    "def getWeekData() :\n",
    "    ul_tag = driver.find_element_by_css_selector('#sch_recent_scoreboard > div > div > ul')\n",
    "    li_list = ul_tag.find_elements_by_css_selector('li')\n",
    "    \n",
    "    date_list = []\n",
    "    \n",
    "    # 주중 일정을 보기위한 스크립트 코드 추출\n",
    "    for li_tag in li_list[1:-1] :\n",
    "        a_tag = li_tag.find_element_by_css_selector('a')\n",
    "        script_code = a_tag.get_attribute('onclick')\n",
    "        script_code = script_code.split(':')[1]\n",
    "        \n",
    "        date_list.append(script_code)\n",
    "    \n",
    "    # 다음 주 첫번째 날짜를 보기위한 스크립트 코드 추출\n",
    "    a_tag = li_list[-1].find_element_by_css_selector('a')\n",
    "    script_code = a_tag.get_attribute('onclick')\n",
    "    script_code = script_code.split(':')[1]\n",
    "    \n",
    "    return date_list, script_code\n"
   ]
  },
  {
   "cell_type": "code",
   "execution_count": 6,
   "metadata": {},
   "outputs": [
    {
     "name": "stdout",
     "output_type": "stream",
     "text": [
      "20190311 : 경기없음\n",
      "20190312 : 경기있음\n",
      "20190313 : 경기있음\n",
      "20190314 : 경기있음\n",
      "20190315 : 경기있음\n",
      "20190316 : 경기있음\n",
      "20190317 : 경기있음\n",
      "20190318 : 경기없음\n",
      "20190319 : 경기있음\n",
      "20190320 : 경기있음\n",
      "20190321 : 경기없음\n",
      "20190322 : 경기없음\n",
      "20190323 : 경기있음\n",
      "20190324 : 경기있음\n",
      "20190325 : 경기없음\n",
      "20190326 : 경기있음\n",
      "20190327 : 경기있음\n",
      "20190328 : 경기있음\n",
      "20190329 : 경기있음\n",
      "20190330 : 경기있음\n",
      "20190331 : 경기있음\n",
      "수집완료\n"
     ]
    }
   ],
   "source": [
    "# getData('20190311')\n",
    "driver.execute_script(\"scoreBoardInstance.setScoreBoard('20190311')\")\n",
    "time.sleep(1)\n",
    "\n",
    "while True :\n",
    "    date_list, next_week = getWeekData()\n",
    "\n",
    "    for script_code in date_list :\n",
    "        getData(script_code)\n",
    "\n",
    "    if date_list[-1].find('20190331') == -1 :\n",
    "        driver.execute_script(next_week)\n",
    "        time.sleep(1)\n",
    "\n",
    "    else :\n",
    "        break\n",
    "        \n",
    "# 저장\n",
    "df1 = pd.DataFrame.from_dict(data_dict)\n",
    "df1.to_csv('baseball.csv', encoding = 'cp949', index = False)\n",
    "print('수집완료')"
   ]
  }
 ],
 "metadata": {
  "kernelspec": {
   "display_name": "Python 3",
   "language": "python",
   "name": "python3"
  },
  "language_info": {
   "codemirror_mode": {
    "name": "ipython",
    "version": 3
   },
   "file_extension": ".py",
   "mimetype": "text/x-python",
   "name": "python",
   "nbconvert_exporter": "python",
   "pygments_lexer": "ipython3",
   "version": "3.7.6"
  }
 },
 "nbformat": 4,
 "nbformat_minor": 2
}
