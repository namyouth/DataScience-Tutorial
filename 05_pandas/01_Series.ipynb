{
 "cells": [
  {
   "cell_type": "markdown",
   "metadata": {},
   "source": [
    "# Series\n",
    "특성 하나의 데이터를 관리할 수 있다."
   ]
  },
  {
   "cell_type": "code",
   "execution_count": 1,
   "metadata": {},
   "outputs": [],
   "source": [
    "import pandas as pd"
   ]
  },
  {
   "cell_type": "markdown",
   "metadata": {},
   "source": [
    "### Series 생성"
   ]
  },
  {
   "cell_type": "code",
   "execution_count": 2,
   "metadata": {},
   "outputs": [
    {
     "data": {
      "text/plain": [
       "0    9904312\n",
       "1    3448737\n",
       "2    2890451\n",
       "3    2466052\n",
       "dtype: int64"
      ]
     },
     "execution_count": 2,
     "metadata": {},
     "output_type": "execute_result"
    }
   ],
   "source": [
    "# 인덱스를 설정하지 않으면 0부터 시작한다.\n",
    "s1 = pd.Series([9904312, 3448737, 2890451, 2466052])\n",
    "s1"
   ]
  },
  {
   "cell_type": "code",
   "execution_count": 3,
   "metadata": {},
   "outputs": [
    {
     "data": {
      "text/plain": [
       "서울    9904312\n",
       "부산    3448737\n",
       "인천    2890451\n",
       "대구    2466052\n",
       "dtype: int64"
      ]
     },
     "execution_count": 3,
     "metadata": {},
     "output_type": "execute_result"
    }
   ],
   "source": [
    "# 인덱스 설정, 인덱스의 수와 데이터의 수는 일치해야 한다.\n",
    "s2 = pd.Series([9904312, 3448737, 2890451, 2466052],\n",
    "              index=['서울', '부산', '인천', '대구'])\n",
    "s2"
   ]
  },
  {
   "cell_type": "code",
   "execution_count": 4,
   "metadata": {},
   "outputs": [
    {
     "data": {
      "text/plain": [
       "Index(['서울', '부산', '인천', '대구'], dtype='object')"
      ]
     },
     "execution_count": 4,
     "metadata": {},
     "output_type": "execute_result"
    }
   ],
   "source": [
    "# 인덱스 목록\n",
    "s2.index"
   ]
  },
  {
   "cell_type": "code",
   "execution_count": 5,
   "metadata": {},
   "outputs": [
    {
     "data": {
      "text/plain": [
       "도시\n",
       "서울    9904312\n",
       "부산    3448737\n",
       "인천    2890451\n",
       "대구    2466052\n",
       "Name: 인구, dtype: int64"
      ]
     },
     "execution_count": 5,
     "metadata": {},
     "output_type": "execute_result"
    }
   ],
   "source": [
    "# Series의 이름 \n",
    "s2.name = '인구'\n",
    "# 인덱스의 이름\n",
    "s2.index.name = '도시'\n",
    "s2"
   ]
  },
  {
   "cell_type": "code",
   "execution_count": 6,
   "metadata": {},
   "outputs": [
    {
     "name": "stdout",
     "output_type": "stream",
     "text": [
      "도시\n",
      "서울    9904312\n",
      "부산    3448737\n",
      "인천    2890451\n",
      "대구    2466052\n",
      "Name: 인구, dtype: int64\n",
      "도시\n",
      "서울    10904312\n",
      "부산     4448737\n",
      "인천     3890451\n",
      "대구     3466052\n",
      "Name: 인구, dtype: int64\n",
      "도시\n",
      "서울    9404312\n",
      "부산    2948737\n",
      "인천    2390451\n",
      "대구    1966052\n",
      "Name: 인구, dtype: int64\n",
      "도시\n",
      "서울    99043120\n",
      "부산    34487370\n",
      "인천    28904510\n",
      "대구    24660520\n",
      "Name: 인구, dtype: int64\n",
      "도시\n",
      "서울    990431\n",
      "부산    344873\n",
      "인천    289045\n",
      "대구    246605\n",
      "Name: 인구, dtype: int64\n"
     ]
    }
   ],
   "source": [
    "# 행렬 연산\n",
    "a1 = s2 + 1000000\n",
    "a2 = s2 - 500000\n",
    "a3 = s2 * 10\n",
    "a4 = s2 // 10\n",
    "print(s2)\n",
    "print(a1)\n",
    "print(a2)\n",
    "print(a3)\n",
    "print(a4)\n"
   ]
  },
  {
   "cell_type": "code",
   "execution_count": 7,
   "metadata": {},
   "outputs": [
    {
     "name": "stdout",
     "output_type": "stream",
     "text": [
      "9904312 9904312\n",
      "2466052 2466052\n"
     ]
    }
   ],
   "source": [
    "# 데이터 가져오기 (인덱스와 이름 둘 다 가능하다.)\n",
    "print(s2[0], s2['서울'])\n",
    "print(s2[3], s2['대구'])"
   ]
  },
  {
   "cell_type": "code",
   "execution_count": 8,
   "metadata": {},
   "outputs": [
    {
     "name": "stdout",
     "output_type": "stream",
     "text": [
      "도시\n",
      "서울    9904312\n",
      "부산    3448737\n",
      "인천    2890451\n",
      "Name: 인구, dtype: int64\n",
      "도시\n",
      "서울    9904312\n",
      "인천    2890451\n",
      "부산    3448737\n",
      "Name: 인구, dtype: int64\n"
     ]
    }
   ],
   "source": [
    "print(s2[[0,1,2]])\n",
    "print(s2[['서울','인천','부산']])"
   ]
  },
  {
   "cell_type": "code",
   "execution_count": 15,
   "metadata": {},
   "outputs": [
    {
     "data": {
      "text/plain": [
       "도시\n",
       "부산    3448737\n",
       "인천    2890451\n",
       "Name: 인구, dtype: int64"
      ]
     },
     "execution_count": 15,
     "metadata": {},
     "output_type": "execute_result"
    }
   ],
   "source": [
    "s3 = (s2 > 2500000) & (s2 < 5000000)\n",
    "s4 = s2[s3]\n",
    "s4"
   ]
  },
  {
   "cell_type": "code",
   "execution_count": 16,
   "metadata": {},
   "outputs": [
    {
     "data": {
      "text/plain": [
       "도시\n",
       "부산    3448737\n",
       "인천    2890451\n",
       "Name: 인구, dtype: int64"
      ]
     },
     "execution_count": 16,
     "metadata": {},
     "output_type": "execute_result"
    }
   ],
   "source": [
    "s5 = s2[(s2 > 2500000) & (s2 < 5000000)]\n",
    "s5"
   ]
  },
  {
   "cell_type": "code",
   "execution_count": 13,
   "metadata": {},
   "outputs": [
    {
     "data": {
      "text/plain": [
       "도시\n",
       "서울    9904312\n",
       "부산    3448737\n",
       "인천    2890451\n",
       "Name: 인구, dtype: int64"
      ]
     },
     "execution_count": 13,
     "metadata": {},
     "output_type": "execute_result"
    }
   ],
   "source": [
    "# 인덱스 0 ~ 3 -1 까지\n",
    "a1 = s2[0:3]\n",
    "a1"
   ]
  },
  {
   "cell_type": "code",
   "execution_count": 14,
   "metadata": {},
   "outputs": [
    {
     "data": {
      "text/plain": [
       "도시\n",
       "서울    9404312\n",
       "부산    2948737\n",
       "인천    2390451\n",
       "Name: 인구, dtype: int64"
      ]
     },
     "execution_count": 14,
     "metadata": {},
     "output_type": "execute_result"
    }
   ],
   "source": [
    "# 인덱스 서울 ~ 인천\n",
    "a2 = a2['서울':'인천']\n",
    "a2"
   ]
  },
  {
   "cell_type": "code",
   "execution_count": 18,
   "metadata": {},
   "outputs": [
    {
     "name": "stdout",
     "output_type": "stream",
     "text": [
      "9904312 9904312 9904312\n"
     ]
    }
   ],
   "source": [
    "# 값 가져오기\n",
    "print(s2[0], s2['서울'], s2.서울)"
   ]
  },
  {
   "cell_type": "markdown",
   "metadata": {},
   "source": [
    "### Series 생성"
   ]
  },
  {
   "cell_type": "code",
   "execution_count": 19,
   "metadata": {},
   "outputs": [
    {
     "data": {
      "text/plain": [
       "항목1    100\n",
       "항목2    200\n",
       "항목3    300\n",
       "항목4    400\n",
       "항목5    500\n",
       "Name: 시리즈1, dtype: int64"
      ]
     },
     "execution_count": 19,
     "metadata": {},
     "output_type": "execute_result"
    }
   ],
   "source": [
    "# 1챠원 리스트, 행렬을 통해 생성\n",
    "list1 = [100,200,300,400,500]\n",
    "index1 = ['항목1','항목2','항목3','항목4','항목5']\n",
    "s2 = pd.Series(list1, index=index1, name='시리즈1')\n",
    "s2"
   ]
  },
  {
   "cell_type": "code",
   "execution_count": 28,
   "metadata": {},
   "outputs": [
    {
     "data": {
      "text/plain": [
       "항목1    100\n",
       "항목3    300\n",
       "항목5    500\n",
       "Name: 시리즈1, dtype: int64"
      ]
     },
     "execution_count": 28,
     "metadata": {},
     "output_type": "execute_result"
    }
   ],
   "source": [
    "# 딕셔너리 통한 생성\n",
    "dict1 = {\n",
    "    '항목1':100, '항목2':200, '항목3':300,'항목4':400,'항목5':500 }\n",
    "\n",
    "# 인덱스를 셋팅하게 되면 인데스의 문자열과 동일한 이름으로 \n",
    "# 저장되어 있는 데이터만 가져와 생성한다.\n",
    "\n",
    "index2 = ['항목1','항목3','항목5']\n",
    "s3 = pd.Series(dict1, index=index2, name='시리즈1')\n",
    "s3"
   ]
  },
  {
   "cell_type": "code",
   "execution_count": 29,
   "metadata": {},
   "outputs": [
    {
     "data": {
      "text/plain": [
       "항목1    1000\n",
       "항목3    3000\n",
       "항목5     500\n",
       "Name: 시리즈1, dtype: int64"
      ]
     },
     "execution_count": 29,
     "metadata": {},
     "output_type": "execute_result"
    }
   ],
   "source": [
    "# 데이터 갱신\n",
    "s3[0]= 5000\n",
    "s3['항목1'] = 1000\n",
    "s3.항목3 = 3000\n",
    "s3"
   ]
  },
  {
   "cell_type": "code",
   "execution_count": 30,
   "metadata": {},
   "outputs": [
    {
     "data": {
      "text/plain": [
       "항목1    1000\n",
       "항목3    3000\n",
       "항목5     500\n",
       "항목2    2000\n",
       "Name: 시리즈1, dtype: int64"
      ]
     },
     "execution_count": 30,
     "metadata": {},
     "output_type": "execute_result"
    }
   ],
   "source": [
    "# 없는 인덱스를 이용해 값을 넣어주면 추가된다.\n",
    "s3['항목2'] = 2000\n",
    "s3"
   ]
  },
  {
   "cell_type": "code",
   "execution_count": 31,
   "metadata": {},
   "outputs": [
    {
     "data": {
      "text/plain": [
       "항목1    1000\n",
       "항목3    3000\n",
       "항목5     500\n",
       "Name: 시리즈1, dtype: int64"
      ]
     },
     "execution_count": 31,
     "metadata": {},
     "output_type": "execute_result"
    }
   ],
   "source": [
    "# 삭제\n",
    "del s3['항목2']\n",
    "s3"
   ]
  },
  {
   "cell_type": "code",
   "execution_count": null,
   "metadata": {},
   "outputs": [],
   "source": []
  }
 ],
 "metadata": {
  "kernelspec": {
   "display_name": "Python 3",
   "language": "python",
   "name": "python3"
  },
  "language_info": {
   "codemirror_mode": {
    "name": "ipython",
    "version": 3
   },
   "file_extension": ".py",
   "mimetype": "text/x-python",
   "name": "python",
   "nbconvert_exporter": "python",
   "pygments_lexer": "ipython3",
   "version": "3.7.6"
  }
 },
 "nbformat": 4,
 "nbformat_minor": 2
}
