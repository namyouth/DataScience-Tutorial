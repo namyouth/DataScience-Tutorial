{
 "cells": [
  {
   "cell_type": "markdown",
   "metadata": {},
   "source": [
    "### DataFrame 생성"
   ]
  },
  {
   "cell_type": "code",
   "execution_count": 1,
   "metadata": {},
   "outputs": [],
   "source": [
    "import pandas as pd"
   ]
  },
  {
   "cell_type": "code",
   "execution_count": 13,
   "metadata": {},
   "outputs": [
    {
     "data": {
      "text/html": [
       "<div>\n",
       "<style scoped>\n",
       "    .dataframe tbody tr th:only-of-type {\n",
       "        vertical-align: middle;\n",
       "    }\n",
       "\n",
       "    .dataframe tbody tr th {\n",
       "        vertical-align: top;\n",
       "    }\n",
       "\n",
       "    .dataframe thead th {\n",
       "        text-align: right;\n",
       "    }\n",
       "</style>\n",
       "<table border=\"1\" class=\"dataframe\">\n",
       "  <thead>\n",
       "    <tr style=\"text-align: right;\">\n",
       "      <th></th>\n",
       "      <th>지역</th>\n",
       "      <th>2000</th>\n",
       "      <th>2005</th>\n",
       "      <th>2010</th>\n",
       "      <th>2015</th>\n",
       "      <th>증가율</th>\n",
       "    </tr>\n",
       "  </thead>\n",
       "  <tbody>\n",
       "    <tr>\n",
       "      <td>서울</td>\n",
       "      <td>수도권</td>\n",
       "      <td>8230392</td>\n",
       "      <td>3822392</td>\n",
       "      <td>8572092</td>\n",
       "      <td>9940443</td>\n",
       "      <td>0.02340</td>\n",
       "    </tr>\n",
       "    <tr>\n",
       "      <td>부산</td>\n",
       "      <td>경상권</td>\n",
       "      <td>6784003</td>\n",
       "      <td>2480033</td>\n",
       "      <td>3944003</td>\n",
       "      <td>3049239</td>\n",
       "      <td>0.03840</td>\n",
       "    </tr>\n",
       "    <tr>\n",
       "      <td>인천</td>\n",
       "      <td>수도권</td>\n",
       "      <td>8805393</td>\n",
       "      <td>1058393</td>\n",
       "      <td>9905393</td>\n",
       "      <td>4850928</td>\n",
       "      <td>0.08574</td>\n",
       "    </tr>\n",
       "    <tr>\n",
       "      <td>대구</td>\n",
       "      <td>경상권</td>\n",
       "      <td>3283433</td>\n",
       "      <td>1283033</td>\n",
       "      <td>2283433</td>\n",
       "      <td>4503200</td>\n",
       "      <td>0.02340</td>\n",
       "    </tr>\n",
       "  </tbody>\n",
       "</table>\n",
       "</div>"
      ],
      "text/plain": [
       "     지역     2000     2005     2010     2015      증가율\n",
       "서울  수도권  8230392  3822392  8572092  9940443  0.02340\n",
       "부산  경상권  6784003  2480033  3944003  3049239  0.03840\n",
       "인천  수도권  8805393  1058393  9905393  4850928  0.08574\n",
       "대구  경상권  3283433  1283033  2283433  4503200  0.02340"
      ]
     },
     "execution_count": 13,
     "metadata": {},
     "output_type": "execute_result"
    }
   ],
   "source": [
    "dict1 = {\n",
    "        '2015':[9940443, 3049239, 4850928, 4503200],\n",
    "        '2010':[8572092, 3944003, 9905393, 2283433],\n",
    "        '2005':[3822392, 2480033, 1058393, 1283033],\n",
    "        '2000':[8230392, 6784003, 8805393, 3283433],\n",
    "        '지역':['수도권', '경상권', '수도권', '경상권'],\n",
    "        '증가율':[0.0234, 0.0384, 0.08574, 0.0234]\n",
    "        }\n",
    "\n",
    "option1 = ['지역', '2000', '2005', '2010', '2015', '증가율']\n",
    "option2 = ['서울', '부산', '인천', '대구']\n",
    "\n",
    "df1 = pd.DataFrame(dict1, columns=option1, index=option2)\n",
    "df1"
   ]
  },
  {
   "cell_type": "code",
   "execution_count": 15,
   "metadata": {},
   "outputs": [
    {
     "data": {
      "text/html": [
       "<div>\n",
       "<style scoped>\n",
       "    .dataframe tbody tr th:only-of-type {\n",
       "        vertical-align: middle;\n",
       "    }\n",
       "\n",
       "    .dataframe tbody tr th {\n",
       "        vertical-align: top;\n",
       "    }\n",
       "\n",
       "    .dataframe thead th {\n",
       "        text-align: right;\n",
       "    }\n",
       "</style>\n",
       "<table border=\"1\" class=\"dataframe\">\n",
       "  <thead>\n",
       "    <tr style=\"text-align: right;\">\n",
       "      <th></th>\n",
       "      <th>항목1</th>\n",
       "      <th>항목2</th>\n",
       "      <th>항목3</th>\n",
       "    </tr>\n",
       "  </thead>\n",
       "  <tbody>\n",
       "    <tr>\n",
       "      <td>로우1</td>\n",
       "      <td>100</td>\n",
       "      <td>200</td>\n",
       "      <td>300</td>\n",
       "    </tr>\n",
       "    <tr>\n",
       "      <td>로우2</td>\n",
       "      <td>1000</td>\n",
       "      <td>2000</td>\n",
       "      <td>3000</td>\n",
       "    </tr>\n",
       "    <tr>\n",
       "      <td>로우3</td>\n",
       "      <td>10000</td>\n",
       "      <td>20000</td>\n",
       "      <td>30000</td>\n",
       "    </tr>\n",
       "  </tbody>\n",
       "</table>\n",
       "</div>"
      ],
      "text/plain": [
       "       항목1    항목2    항목3\n",
       "로우1    100    200    300\n",
       "로우2   1000   2000   3000\n",
       "로우3  10000  20000  30000"
      ]
     },
     "execution_count": 15,
     "metadata": {},
     "output_type": "execute_result"
    }
   ],
   "source": [
    "list1 = [\n",
    "    [100, 200, 300],\n",
    "    [1000, 2000, 3000],\n",
    "    [10000, 20000, 30000]\n",
    "]\n",
    "\n",
    "option3 = ['항목1', '항목2', '항목3']\n",
    "option4 = ['로우1', '로우2', '로우3']\n",
    "\n",
    "df2 = pd.DataFrame(list1, columns=option3, index=option4)\n",
    "df2"
   ]
  },
  {
   "cell_type": "code",
   "execution_count": null,
   "metadata": {},
   "outputs": [],
   "source": []
  }
 ],
 "metadata": {
  "kernelspec": {
   "display_name": "Python 3",
   "language": "python",
   "name": "python3"
  },
  "language_info": {
   "codemirror_mode": {
    "name": "ipython",
    "version": 3
   },
   "file_extension": ".py",
   "mimetype": "text/x-python",
   "name": "python",
   "nbconvert_exporter": "python",
   "pygments_lexer": "ipython3",
   "version": "3.7.6"
  }
 },
 "nbformat": 4,
 "nbformat_minor": 2
}
